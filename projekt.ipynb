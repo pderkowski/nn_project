{
 "cells": [
  {
   "cell_type": "code",
   "execution_count": 6,
   "metadata": {
    "collapsed": false
   },
   "outputs": [
    {
     "name": "stdout",
     "output_type": "stream",
     "text": [
      "Populating the interactive namespace from numpy and matplotlib\n"
     ]
    },
    {
     "name": "stderr",
     "output_type": "stream",
     "text": [
      "WARNING: pylab import has clobbered these variables: ['f']\n",
      "`%matplotlib` prevents importing * from pylab and numpy\n"
     ]
    }
   ],
   "source": [
    "%pylab inline"
   ]
  },
  {
   "cell_type": "code",
   "execution_count": 7,
   "metadata": {
    "collapsed": false
   },
   "outputs": [
    {
     "name": "stdout",
     "output_type": "stream",
     "text": [
      "The streams return batches containing (u'features', u'targets')\n",
      "Each trainin batch consits of a tuple containing:\n",
      " - an array of size (100, 3, 32, 32) containing float32\n",
      " - an array of size (100, 1) containing uint8\n",
      "Validation/test batches consits of tuples containing:\n",
      " - an array of size (250, 3, 32, 32) containing float32\n",
      " - an array of size (250, 1) containing uint8\n"
     ]
    }
   ],
   "source": [
    "from fuel.datasets.cifar10 import CIFAR10\n",
    "from fuel.transformers import ScaleAndShift, Cast, Flatten, Mapping\n",
    "from fuel.streams import DataStream\n",
    "from fuel.schemes import SequentialScheme, ShuffledScheme\n",
    "\n",
    "train_batch_size = 100\n",
    "validation_batch_size = 250\n",
    "\n",
    "\n",
    "CIFAR10.default_transformers = (\n",
    "    (ScaleAndShift, [2.0 / 255.0, -1], {'which_sources': 'features'}),\n",
    "    (Cast, [np.float32], {'which_sources': 'features'}), \n",
    "    #(Flatten, [], {'which_sources': 'features'}),\n",
    "    #(Flatten, [], {'which_sources': 'targets'}),\n",
    "    #(Mapping, [lambda batch: (b.T for b in batch)], {}) \n",
    "    )\n",
    "\n",
    "cifar_train = CIFAR10((\"train\",), subset=slice(None,40000))\n",
    "cifar_train_stream = DataStream.default_stream(\n",
    "    cifar_train,\n",
    "    iteration_scheme=ShuffledScheme(cifar_train.num_examples, train_batch_size))\n",
    "\n",
    "cifar_validation = CIFAR10((\"train\",), subset=slice(40000, None))\n",
    "cifar_validation_stream = DataStream.default_stream(\n",
    "    cifar_validation, iteration_scheme=SequentialScheme(cifar_validation.num_examples, validation_batch_size))\n",
    "\n",
    "cifar_test = CIFAR10((\"test\",))\n",
    "cifar_test_stream = DataStream.default_stream(\n",
    "    cifar_test, iteration_scheme=SequentialScheme(cifar_test.num_examples, validation_batch_size))\n",
    "\n",
    "print \"The streams return batches containing %s\" % (cifar_train_stream.sources,)\n",
    "\n",
    "print \"Each trainin batch consits of a tuple containing:\"\n",
    "for element in next(cifar_train_stream.get_epoch_iterator()):\n",
    "    print \" - an array of size %s containing %s\" % (element.shape, element.dtype)\n",
    "    \n",
    "print \"Validation/test batches consits of tuples containing:\"\n",
    "for element in next(cifar_test_stream.get_epoch_iterator()):\n",
    "    print \" - an array of size %s containing %s\" % (element.shape, element.dtype)\n",
    "\n",
    "cifar_labels = [\"airplane\", \"car\", \"bird\", \"cat\", \"deer\", \"dog\", \"frog\", \"horse\", \"ship\", \"truck\"]"
   ]
  },
  {
   "cell_type": "code",
   "execution_count": 8,
   "metadata": {
    "collapsed": false
   },
   "outputs": [
    {
     "name": "stdout",
     "output_type": "stream",
     "text": [
      "[GpuElemwise{exp,no_inplace}(<CudaNdarrayType(float32, vector)>), HostFromGpu(GpuElemwise{exp,no_inplace}.0)]\n",
      "Looping 1000 times took 0.259582 seconds\n",
      "Result is [ 1.23178029  1.61879349  1.52278066 ...,  2.20771813  2.29967761\n",
      "  1.62323296]\n",
      "Used the gpu\n"
     ]
    }
   ],
   "source": [
    "import lasagne\n",
    "\n",
    "import theano\n",
    "import theano.tensor as T\n",
    "\n",
    "from theano import function, config, shared, sandbox\n",
    "import theano.tensor as T\n",
    "import numpy\n",
    "import time\n",
    "\n",
    "vlen = 10 * 30 * 768  # 10 x #cores x # threads per core\n",
    "iters = 1000\n",
    "\n",
    "rng = numpy.random.RandomState(22)\n",
    "x = shared(numpy.asarray(rng.rand(vlen), config.floatX))\n",
    "f = function([], T.exp(x))\n",
    "print(f.maker.fgraph.toposort())\n",
    "t0 = time.time()\n",
    "for i in range(iters):\n",
    "    r = f()\n",
    "t1 = time.time()\n",
    "print(\"Looping %d times took %f seconds\" % (iters, t1 - t0))\n",
    "print(\"Result is %s\" % (r,))\n",
    "if numpy.any([isinstance(x.op, T.Elemwise) for x in f.maker.fgraph.toposort()]):\n",
    "    print('Used the cpu')\n",
    "else:\n",
    "    print('Used the gpu')"
   ]
  },
  {
   "cell_type": "code",
   "execution_count": 11,
   "metadata": {
    "collapsed": false
   },
   "outputs": [],
   "source": [
    "# create Theano variables for input and target minibatch\n",
    "input_var = T.tensor4('X')\n",
    "target_var = T.ivector('y')\n",
    "\n",
    "# create a small convolutional neural network\n",
    "from lasagne.nonlinearities import leaky_rectify, softmax\n",
    "network = lasagne.layers.InputLayer((None, 3, 32, 32), input_var)\n",
    "network = lasagne.layers.Conv2DLayer(network, 64, (3, 3),\n",
    "                                     nonlinearity=leaky_rectify)\n",
    "network = lasagne.layers.Conv2DLayer(network, 32, (3, 3),\n",
    "                                     nonlinearity=leaky_rectify)\n",
    "network = lasagne.layers.Pool2DLayer(network, (3, 3), stride=2, mode='max')\n",
    "network = lasagne.layers.DenseLayer(lasagne.layers.dropout(network, 0.5),\n",
    "                                    128, nonlinearity=leaky_rectify,\n",
    "                                    W=lasagne.init.Orthogonal())\n",
    "network = lasagne.layers.DenseLayer(lasagne.layers.dropout(network, 0.5),\n",
    "                                    10, nonlinearity=softmax)\n",
    "\n",
    "# create loss function\n",
    "prediction = lasagne.layers.get_output(network)\n",
    "loss = lasagne.objectives.categorical_crossentropy(prediction, target_var)\n",
    "loss = loss.mean() + 1e-4 * lasagne.regularization.regularize_network_params(\n",
    "        network, lasagne.regularization.l2)\n",
    "\n",
    "# create parameter update expressions\n",
    "params = lasagne.layers.get_all_params(network, trainable=True)\n",
    "updates = lasagne.updates.nesterov_momentum(loss, params, learning_rate=0.01,\n",
    "                                            momentum=0.9)\n",
    "\n",
    "# compile training function that updates parameters and returns training loss\n",
    "train_fn = theano.function([input_var, target_var], loss, updates=updates)\n",
    "\n",
    "\n",
    "test_prediction = lasagne.layers.get_output(network, deterministic=True)\n",
    "\n",
    "test_loss = lasagne.objectives.categorical_crossentropy(test_prediction, target_var)\n",
    "test_loss = loss.mean() + 1e-4 * lasagne.regularization.regularize_network_params(\n",
    "        network, lasagne.regularization.l2)\n",
    "\n",
    "test_acc = T.mean(T.eq(T.argmax(test_prediction, axis=1), target_var), dtype=theano.config.floatX)\n",
    "\n",
    "val_fn = theano.function([input_var, target_var], [test_loss, test_acc])\n"
   ]
  },
  {
   "cell_type": "code",
   "execution_count": 19,
   "metadata": {
    "collapsed": false
   },
   "outputs": [
    {
     "name": "stdout",
     "output_type": "stream",
     "text": [
      "Starting training...\n",
      "Epoch 1 of 30 took 32.479s\n",
      "  training loss:\t\t0.921374\n",
      "  validation loss:\t\t1.151868\n",
      "  validation accuracy:\t\t70.88 %\n",
      "Epoch 2 of 30 took 32.552s\n",
      "  training loss:\t\t0.895380\n",
      "  validation loss:\t\t1.149089\n",
      "  validation accuracy:\t\t71.63 %\n",
      "Epoch 3 of 30 took 32.632s\n",
      "  training loss:\t\t0.884954\n",
      "  validation loss:\t\t1.157071\n",
      "  validation accuracy:\t\t70.98 %\n",
      "Epoch 4 of 30 took 32.655s\n",
      "  training loss:\t\t0.867715\n",
      "  validation loss:\t\t1.160587\n",
      "  validation accuracy:\t\t71.68 %\n",
      "Epoch 5 of 30 took 32.278s\n",
      "  training loss:\t\t0.853686\n",
      "  validation loss:\t\t1.167281\n",
      "  validation accuracy:\t\t72.21 %\n",
      "Epoch 6 of 30 took 32.240s\n",
      "  training loss:\t\t0.846748\n",
      "  validation loss:\t\t1.157147\n",
      "  validation accuracy:\t\t72.94 %\n",
      "Epoch 7 of 30 took 32.064s\n",
      "  training loss:\t\t0.836903\n",
      "  validation loss:\t\t1.150190\n",
      "  validation accuracy:\t\t72.70 %\n",
      "Epoch 8 of 30 took 31.372s\n",
      "  training loss:\t\t0.822121\n",
      "  validation loss:\t\t1.157737\n",
      "  validation accuracy:\t\t72.87 %\n",
      "Epoch 9 of 30 took 31.420s\n",
      "  training loss:\t\t0.811905\n",
      "  validation loss:\t\t1.163445\n",
      "  validation accuracy:\t\t73.03 %\n",
      "Epoch 10 of 30 took 31.418s\n",
      "  training loss:\t\t0.806444\n",
      "  validation loss:\t\t1.174252\n",
      "  validation accuracy:\t\t72.76 %\n",
      "Epoch 11 of 30 took 31.370s\n",
      "  training loss:\t\t0.794168\n",
      "  validation loss:\t\t1.173832\n",
      "  validation accuracy:\t\t73.05 %\n",
      "Epoch 12 of 30 took 31.454s\n",
      "  training loss:\t\t0.790939\n",
      "  validation loss:\t\t1.194151\n",
      "  validation accuracy:\t\t72.85 %\n",
      "Epoch 13 of 30 took 31.375s\n",
      "  training loss:\t\t0.787313\n",
      "  validation loss:\t\t1.206360\n",
      "  validation accuracy:\t\t73.47 %\n",
      "Epoch 14 of 30 took 31.411s\n",
      "  training loss:\t\t0.771347\n",
      "  validation loss:\t\t1.225085\n",
      "  validation accuracy:\t\t73.59 %\n",
      "Epoch 15 of 30 took 31.413s\n",
      "  training loss:\t\t0.766943\n",
      "  validation loss:\t\t1.233859\n",
      "  validation accuracy:\t\t73.50 %\n",
      "Epoch 16 of 30 took 31.368s\n",
      "  training loss:\t\t0.762421\n",
      "  validation loss:\t\t1.238686\n",
      "  validation accuracy:\t\t73.90 %\n",
      "Epoch 17 of 30 took 31.451s\n",
      "  training loss:\t\t0.750886\n",
      "  validation loss:\t\t1.257110\n",
      "  validation accuracy:\t\t73.53 %\n",
      "Epoch 18 of 30 took 31.372s\n",
      "  training loss:\t\t0.753875\n",
      "  validation loss:\t\t1.251730\n",
      "  validation accuracy:\t\t73.15 %\n",
      "Epoch 19 of 30 took 31.411s\n",
      "  training loss:\t\t0.749632\n",
      "  validation loss:\t\t1.276741\n",
      "  validation accuracy:\t\t73.74 %\n",
      "Epoch 20 of 30 took 31.414s\n",
      "  training loss:\t\t0.739301\n",
      "  validation loss:\t\t1.229932\n",
      "  validation accuracy:\t\t73.28 %\n",
      "Epoch 21 of 30 took 31.369s\n",
      "  training loss:\t\t0.739468\n",
      "  validation loss:\t\t1.249981\n",
      "  validation accuracy:\t\t73.90 %\n",
      "Epoch 22 of 30 took 31.471s\n",
      "  training loss:\t\t0.749190\n",
      "  validation loss:\t\t1.256779\n",
      "  validation accuracy:\t\t73.74 %\n",
      "Epoch 23 of 30 took 31.374s\n",
      "  training loss:\t\t0.731917\n",
      "  validation loss:\t\t1.286914\n",
      "  validation accuracy:\t\t73.67 %\n",
      "Epoch 24 of 30 took 31.413s\n",
      "  training loss:\t\t0.729111\n",
      "  validation loss:\t\t1.274044\n",
      "  validation accuracy:\t\t73.80 %\n",
      "Epoch 25 of 30 took 31.412s\n",
      "  training loss:\t\t0.724277\n",
      "  validation loss:\t\t1.306913\n",
      "  validation accuracy:\t\t74.12 %\n",
      "Epoch 26 of 30 took 31.368s\n",
      "  training loss:\t\t0.720698\n",
      "  validation loss:\t\t1.330806\n",
      "  validation accuracy:\t\t73.54 %\n",
      "Epoch 27 of 30 took 31.469s\n",
      "  training loss:\t\t0.719652\n",
      "  validation loss:\t\t1.300634\n",
      "  validation accuracy:\t\t74.48 %\n",
      "Epoch 28 of 30 took 31.414s\n",
      "  training loss:\t\t0.716761\n",
      "  validation loss:\t\t1.326712\n",
      "  validation accuracy:\t\t73.00 %\n",
      "Epoch 29 of 30 took 31.438s\n",
      "  training loss:\t\t0.711955\n",
      "  validation loss:\t\t1.342366\n",
      "  validation accuracy:\t\t74.22 %\n",
      "Epoch 30 of 30 took 31.423s\n",
      "  training loss:\t\t0.708222\n",
      "  validation loss:\t\t1.350482\n",
      "  validation accuracy:\t\t74.08 %\n"
     ]
    }
   ],
   "source": [
    "num_epochs = 30\n",
    "\n",
    "\n",
    "print(\"Starting training...\")\n",
    "for epoch in range(num_epochs):\n",
    "    train_err = 0\n",
    "    train_batches = 0\n",
    "    start_time = time.time()\n",
    "    for input_batch, target_batch in cifar_train_stream.get_epoch_iterator():\n",
    "        train_err += train_fn(input_batch, target_batch.ravel())\n",
    "        train_batches += 1\n",
    "\n",
    "        \n",
    "    # And a full pass over the validation data:\n",
    "    val_err = 0\n",
    "    val_acc = 0\n",
    "    val_batches = 0\n",
    "    for input_batch, target_batch in cifar_validation_stream.get_epoch_iterator():\n",
    "        err, acc = val_fn(input_batch, target_batch.ravel())\n",
    "        val_err += err\n",
    "        val_acc += acc\n",
    "        val_batches += 1\n",
    "\n",
    "    # Then we print the results for this epoch:\n",
    "    print(\"Epoch {} of {} took {:.3f}s\".format(\n",
    "        epoch + 1, num_epochs, time.time() - start_time))\n",
    "    print(\"  training loss:\\t\\t{:.6f}\".format(train_err / train_batches))\n",
    "    print(\"  validation loss:\\t\\t{:.6f}\".format(val_err / val_batches))\n",
    "    print(\"  validation accuracy:\\t\\t{:.2f} %\".format(\n",
    "        val_acc / val_batches * 100))\n",
    "\n"
   ]
  },
  {
   "cell_type": "code",
   "execution_count": 20,
   "metadata": {
    "collapsed": false
   },
   "outputs": [
    {
     "name": "stdout",
     "output_type": "stream",
     "text": [
      "Final results:\n",
      "  test loss:\t\t\t1.330675\n",
      "  test accuracy:\t\t74.12 %\n"
     ]
    }
   ],
   "source": [
    "# After training, we compute and print the test error:\n",
    "test_err = 0\n",
    "test_acc = 0\n",
    "test_batches = 0\n",
    "for input_batch, target_batch in cifar_test_stream.get_epoch_iterator():\n",
    "    err, acc = val_fn(input_batch, target_batch.ravel())\n",
    "    test_err += err\n",
    "    test_acc += acc\n",
    "    test_batches += 1\n",
    "print(\"Final results:\")\n",
    "print(\"  test loss:\\t\\t\\t{:.6f}\".format(test_err / test_batches))\n",
    "print(\"  test accuracy:\\t\\t{:.2f} %\".format(\n",
    "    test_acc / test_batches * 100))\n",
    "\n",
    "# use trained network for predictions\n",
    "#test_prediction = lasagne.layers.get_output(network, deterministic=True)\n",
    "#predict_fn = theano.function([input_var], T.argmax(test_prediction, axis=1))\n",
    "#print(\"Predicted class for first test input: %r\" % predict_fn(test_data[0]))"
   ]
  },
  {
   "cell_type": "code",
   "execution_count": null,
   "metadata": {
    "collapsed": true
   },
   "outputs": [],
   "source": []
  }
 ],
 "metadata": {
  "kernelspec": {
   "display_name": "Python 2",
   "language": "python",
   "name": "python2"
  },
  "language_info": {
   "codemirror_mode": {
    "name": "ipython",
    "version": 2
   },
   "file_extension": ".py",
   "mimetype": "text/x-python",
   "name": "python",
   "nbconvert_exporter": "python",
   "pygments_lexer": "ipython2",
   "version": "2.7.10"
  }
 },
 "nbformat": 4,
 "nbformat_minor": 0
}
